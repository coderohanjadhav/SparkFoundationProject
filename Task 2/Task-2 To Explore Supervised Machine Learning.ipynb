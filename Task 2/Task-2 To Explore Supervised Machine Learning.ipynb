{
 "cells": [
  {
   "cell_type": "markdown",
   "metadata": {},
   "source": [
    "![](logo_small.png)"
   ]
  },
  {
   "cell_type": "markdown",
   "metadata": {},
   "source": [
    "#### Name - Rohan Jadhav\n",
    "#### Emailid :- jadhavrohan26@gmail.com"
   ]
  },
  {
   "cell_type": "markdown",
   "metadata": {},
   "source": [
    "## Task 2 :- To Explore Supervised Machine Learning."
   ]
  },
  {
   "cell_type": "markdown",
   "metadata": {},
   "source": [
    "#### In this regression task we will predict the percentage of marks that a student is expected to score based upon the number of hours they studied. This is a simple linear regression task as it involves just two variables."
   ]
  },
  {
   "cell_type": "markdown",
   "metadata": {},
   "source": [
    "###### Dataset For Task :- http://bit.ly/w-data"
   ]
  },
  {
   "cell_type": "code",
   "execution_count": 1,
   "metadata": {},
   "outputs": [
    {
     "name": "stdout",
     "output_type": "stream",
     "text": [
      "   Hours  Scores\n",
      "0    2.5      21\n",
      "1    5.1      47\n",
      "2    3.2      27\n",
      "3    8.5      75\n",
      "4    3.5      30\n",
      "\n",
      "\n",
      "Shape of the Data: (25, 2)\n"
     ]
    }
   ],
   "source": [
    "import pandas as pd\n",
    "import numpy  as np\n",
    "import matplotlib.pyplot as plt\n",
    "from sklearn.model_selection import train_test_split\n",
    "from sklearn.linear_model import LinearRegression\n",
    "from sklearn.metrics import r2_score\n",
    "from sklearn import metrics\n",
    "\n",
    "\n",
    "Data = pd.read_csv(\"https://raw.githubusercontent.com/AdiPersonalWorks/Random/master/student_scores%20-%20student_scores.csv\")\n",
    "print(Data.head())\n",
    "\n",
    "#Explore the shape of the data. \n",
    "print(\"\\n\")\n",
    "print('Shape of the Data:', Data.shape)"
   ]
  },
  {
   "cell_type": "code",
   "execution_count": 2,
   "metadata": {},
   "outputs": [
    {
     "name": "stdout",
     "output_type": "stream",
     "text": [
      "<class 'pandas.core.frame.DataFrame'>\n",
      "RangeIndex: 25 entries, 0 to 24\n",
      "Data columns (total 2 columns):\n",
      " #   Column  Non-Null Count  Dtype  \n",
      "---  ------  --------------  -----  \n",
      " 0   Hours   25 non-null     float64\n",
      " 1   Scores  25 non-null     int64  \n",
      "dtypes: float64(1), int64(1)\n",
      "memory usage: 464.0 bytes\n",
      "None\n"
     ]
    }
   ],
   "source": [
    "\n",
    "# To get quick overview of the dataset we use info() function. In pandas info() function is used to get concise summary of the dataframe.\n",
    "\n",
    "print(Data.info())"
   ]
  },
  {
   "cell_type": "code",
   "execution_count": 3,
   "metadata": {},
   "outputs": [
    {
     "data": {
      "text/plain": [
       "Hours     False\n",
       "Scores    False\n",
       "dtype: bool"
      ]
     },
     "execution_count": 3,
     "metadata": {},
     "output_type": "execute_result"
    }
   ],
   "source": [
    "# Now Check is there any Null value in our dataset. \n",
    "\n",
    "Data.isnull().any()"
   ]
  },
  {
   "cell_type": "code",
   "execution_count": 4,
   "metadata": {},
   "outputs": [
    {
     "data": {
      "text/html": [
       "<div>\n",
       "<style scoped>\n",
       "    .dataframe tbody tr th:only-of-type {\n",
       "        vertical-align: middle;\n",
       "    }\n",
       "\n",
       "    .dataframe tbody tr th {\n",
       "        vertical-align: top;\n",
       "    }\n",
       "\n",
       "    .dataframe thead th {\n",
       "        text-align: right;\n",
       "    }\n",
       "</style>\n",
       "<table border=\"1\" class=\"dataframe\">\n",
       "  <thead>\n",
       "    <tr style=\"text-align: right;\">\n",
       "      <th></th>\n",
       "      <th>Hours</th>\n",
       "      <th>Scores</th>\n",
       "    </tr>\n",
       "  </thead>\n",
       "  <tbody>\n",
       "    <tr>\n",
       "      <th>count</th>\n",
       "      <td>25.000000</td>\n",
       "      <td>25.000000</td>\n",
       "    </tr>\n",
       "    <tr>\n",
       "      <th>mean</th>\n",
       "      <td>5.012000</td>\n",
       "      <td>51.480000</td>\n",
       "    </tr>\n",
       "    <tr>\n",
       "      <th>std</th>\n",
       "      <td>2.525094</td>\n",
       "      <td>25.286887</td>\n",
       "    </tr>\n",
       "    <tr>\n",
       "      <th>min</th>\n",
       "      <td>1.100000</td>\n",
       "      <td>17.000000</td>\n",
       "    </tr>\n",
       "    <tr>\n",
       "      <th>25%</th>\n",
       "      <td>2.700000</td>\n",
       "      <td>30.000000</td>\n",
       "    </tr>\n",
       "    <tr>\n",
       "      <th>50%</th>\n",
       "      <td>4.800000</td>\n",
       "      <td>47.000000</td>\n",
       "    </tr>\n",
       "    <tr>\n",
       "      <th>75%</th>\n",
       "      <td>7.400000</td>\n",
       "      <td>75.000000</td>\n",
       "    </tr>\n",
       "    <tr>\n",
       "      <th>max</th>\n",
       "      <td>9.200000</td>\n",
       "      <td>95.000000</td>\n",
       "    </tr>\n",
       "  </tbody>\n",
       "</table>\n",
       "</div>"
      ],
      "text/plain": [
       "           Hours     Scores\n",
       "count  25.000000  25.000000\n",
       "mean    5.012000  51.480000\n",
       "std     2.525094  25.286887\n",
       "min     1.100000  17.000000\n",
       "25%     2.700000  30.000000\n",
       "50%     4.800000  47.000000\n",
       "75%     7.400000  75.000000\n",
       "max     9.200000  95.000000"
      ]
     },
     "execution_count": 4,
     "metadata": {},
     "output_type": "execute_result"
    }
   ],
   "source": [
    "# Now Check the basic statistical details of a data frame. In pandas describe() function is used to get a summary of statistics pertaining to the DataFrame columns.\n",
    "\n",
    "Data.describe()"
   ]
  },
  {
   "cell_type": "markdown",
   "metadata": {},
   "source": [
    "Here We Check the percentile, mean, std, min, max values of the dataframe.\n",
    "\n",
    "Data Visualization of Given Dataset\n",
    "\n",
    "Scatter Plot"
   ]
  },
  {
   "cell_type": "code",
   "execution_count": 5,
   "metadata": {},
   "outputs": [
    {
     "data": {
      "image/png": "[encoded data removed]",
      "text/plain": [
       "<Figure size 432x288 with 1 Axes>"
      ]
     },
     "metadata": {
      "needs_background": "light"
     },
     "output_type": "display_data"
    }
   ],
   "source": [
    "plt.scatter(Data.Hours,Data.Scores,Color = \"blue\")\n",
    "plt.xlabel('Student Study Hours')\n",
    "plt.ylabel(\"Score Percentage\")\n",
    "plt.title(\"Hours Vs Percentage\")\n",
    "plt.show()"
   ]
  },
  {
   "cell_type": "markdown",
   "metadata": {},
   "source": [
    "After Scatter we see there is a linear relationship between the number of hours studied and percentage of score.\n",
    "\n",
    "Now Preparing the data for LinearRegression."
   ]
  },
  {
   "cell_type": "code",
   "execution_count": 6,
   "metadata": {},
   "outputs": [
    {
     "name": "stdout",
     "output_type": "stream",
     "text": [
      "Shape of the X_train : (20, 1)\n",
      "Shape of the X_test : (5, 1)\n",
      "\n",
      "\n",
      "Shape of the Y_train : (20,)\n",
      "Shape of the Y_test : (5,)\n",
      "\n",
      "\n",
      "Here, We split the data 80% into training set and 20% into testing set.\n"
     ]
    }
   ],
   "source": [
    "# Divide the dataset into X as \"Input\" and Y as \"Output\"\n",
    "\n",
    "X = Data.iloc[ :, : -1].values   #Input\n",
    "Y = Data.iloc[ :, 1].values    #Output\n",
    "\n",
    "# Split the dataset into train and test\n",
    "\n",
    "X_train, X_test, Y_train, Y_test  = train_test_split(X, Y, test_size = 0.2, random_state = 3)\n",
    "\n",
    "print('Shape of the X_train :', X_train.shape)\n",
    "print('Shape of the X_test :', X_test.shape)\n",
    "\n",
    "print(\"\\n\")\n",
    "print('Shape of the Y_train :', Y_train.shape)\n",
    "print('Shape of the Y_test :', Y_test.shape)\n",
    "\n",
    "print(\"\\n\")\n",
    "print(\"Here, We split the data 80% into training set and 20% into testing set.\")"
   ]
  },
  {
   "cell_type": "markdown",
   "metadata": {},
   "source": [
    "### Modal Building"
   ]
  },
  {
   "cell_type": "code",
   "execution_count": 7,
   "metadata": {},
   "outputs": [
    {
     "data": {
      "text/plain": [
       "LinearRegression()"
      ]
     },
     "execution_count": 7,
     "metadata": {},
     "output_type": "execute_result"
    }
   ],
   "source": [
    "# Fitting LinearRegression \n",
    "\n",
    "Modal = LinearRegression()\n",
    "Modal.fit(X_train,Y_train)"
   ]
  },
  {
   "cell_type": "code",
   "execution_count": 8,
   "metadata": {},
   "outputs": [
    {
     "name": "stdout",
     "output_type": "stream",
     "text": [
      "\n",
      "LinearRegression modal score : 0.945261762833401\n"
     ]
    }
   ],
   "source": [
    "#Predicting the Test set Result\n",
    "y_prediction = Modal.predict(X_test)\n",
    "\n",
    "# Accuracy Score\n",
    "score=r2_score(Y_test,y_prediction)\n",
    "print('\\n''LinearRegression modal score :',(score))"
   ]
  },
  {
   "cell_type": "code",
   "execution_count": 9,
   "metadata": {},
   "outputs": [
    {
     "data": {
      "text/html": [
       "<div>\n",
       "<style scoped>\n",
       "    .dataframe tbody tr th:only-of-type {\n",
       "        vertical-align: middle;\n",
       "    }\n",
       "\n",
       "    .dataframe tbody tr th {\n",
       "        vertical-align: top;\n",
       "    }\n",
       "\n",
       "    .dataframe thead th {\n",
       "        text-align: right;\n",
       "    }\n",
       "</style>\n",
       "<table border=\"1\" class=\"dataframe\">\n",
       "  <thead>\n",
       "    <tr style=\"text-align: right;\">\n",
       "      <th></th>\n",
       "      <th>Actual_Value</th>\n",
       "      <th>Predicted_Value</th>\n",
       "    </tr>\n",
       "  </thead>\n",
       "  <tbody>\n",
       "    <tr>\n",
       "      <th>0</th>\n",
       "      <td>67</td>\n",
       "      <td>61.072402</td>\n",
       "    </tr>\n",
       "    <tr>\n",
       "      <th>1</th>\n",
       "      <td>24</td>\n",
       "      <td>21.181131</td>\n",
       "    </tr>\n",
       "    <tr>\n",
       "      <th>2</th>\n",
       "      <td>41</td>\n",
       "      <td>45.875727</td>\n",
       "    </tr>\n",
       "    <tr>\n",
       "      <th>3</th>\n",
       "      <td>76</td>\n",
       "      <td>68.670739</td>\n",
       "    </tr>\n",
       "    <tr>\n",
       "      <th>4</th>\n",
       "      <td>95</td>\n",
       "      <td>87.666582</td>\n",
       "    </tr>\n",
       "  </tbody>\n",
       "</table>\n",
       "</div>"
      ],
      "text/plain": [
       "   Actual_Value  Predicted_Value\n",
       "0            67        61.072402\n",
       "1            24        21.181131\n",
       "2            41        45.875727\n",
       "3            76        68.670739\n",
       "4            95        87.666582"
      ]
     },
     "execution_count": 9,
     "metadata": {},
     "output_type": "execute_result"
    }
   ],
   "source": [
    "#Comparing Predicted value and Actual Value\n",
    "dataframe  = pd.DataFrame({'Actual_Value' : Y_test, 'Predicted_Value' : y_prediction})\n",
    "dataframe"
   ]
  },
  {
   "cell_type": "markdown",
   "metadata": {},
   "source": [
    "### Analysing The Data"
   ]
  },
  {
   "cell_type": "code",
   "execution_count": 10,
   "metadata": {},
   "outputs": [
    {
     "data": {
      "image/png": "[encoded data removed]",
      "text/plain": [
       "<Figure size 1800x720 with 1 Axes>"
      ]
     },
     "metadata": {
      "needs_background": "light"
     },
     "output_type": "display_data"
    }
   ],
   "source": [
    "Coefficients = Modal.coef_\n",
    "Intercept = Modal.intercept_\n",
    "Line = Coefficients*X+Intercept\n",
    "\n",
    "plt.figure(figsize= (25,10))\n",
    "plt.scatter(X,Y)\n",
    "plt.plot(X,Line,color='red')\n",
    "plt.yticks(fontsize=20,color = 'red')\n",
    "plt.xticks(fontsize=20,color = 'red')\n",
    "plt.xlabel('Hours',color='black',size = 25)\n",
    "plt.ylabel('Precentage Scores',color='black',size = 25)\n",
    "plt.grid()\n",
    "plt.show()"
   ]
  },
  {
   "cell_type": "markdown",
   "metadata": {},
   "source": [
    "#### PredictingThe Score for Students for  Hours studied"
   ]
  },
  {
   "cell_type": "code",
   "execution_count": 11,
   "metadata": {},
   "outputs": [
    {
     "name": "stdout",
     "output_type": "stream",
     "text": [
      "Number of Hour: ([9.25],)\n",
      "Predicited Score: [90.990855]\n"
     ]
    }
   ],
   "source": [
    "Hours_Studied = ([9.25],)\n",
    "Predicited_Score = Modal.predict(Hours_Studied)\n",
    "print('Number of Hour:', Hours_Studied)\n",
    "print('Predicited Score:', Predicited_Score)"
   ]
  },
  {
   "cell_type": "markdown",
   "metadata": {},
   "source": [
    "### Evaluate the performance of Modal"
   ]
  },
  {
   "cell_type": "code",
   "execution_count": 12,
   "metadata": {},
   "outputs": [
    {
     "name": "stdout",
     "output_type": "stream",
     "text": [
      "Coefficients_Value: [9.49792159]\n",
      "\n",
      "Intercept_Value: 3.135080283641699\n",
      "\n",
      "Mean Absolute Error: 5.656974488548368\n",
      "\n",
      "Root Mean Absolute Error: 2.3784395070189124\n",
      "\n",
      "Mean Squared Error: 34.87044660461019\n",
      "\n",
      "Root Mean Squared Error: 5.905120371729113\n"
     ]
    }
   ],
   "source": [
    "print('Coefficients_Value:',Coefficients)\n",
    "print('\\n''Intercept_Value:',Intercept)\n",
    "print('\\n''Mean Absolute Error:', metrics.mean_absolute_error(Y_test, y_prediction))  \n",
    "print('\\n''Root Mean Absolute Error:', np.sqrt(metrics.mean_absolute_error(Y_test, y_prediction)))\n",
    "print('\\n''Mean Squared Error:', metrics.mean_squared_error(Y_test, y_prediction))  \n",
    "print('\\n''Root Mean Squared Error:', np.sqrt(metrics.mean_squared_error(Y_test, y_prediction)))"
   ]
  },
  {
   "cell_type": "markdown",
   "metadata": {},
   "source": [
    "##### Accurcy Score of linearRegression Modal 94.52% "
   ]
  },
  {
   "cell_type": "markdown",
   "metadata": {},
   "source": [
    "Here we can see that the value of Root Mean Squared Error is 5.905, Which is less than 10% of the Mean value of the scores of all the students i.e 51.48.This means that our Modal did a great work."
   ]
  }
 ],
 "metadata": {
  "kernelspec": {
   "display_name": "Python 3",
   "language": "python",
   "name": "python3"
  },
  "language_info": {
   "codemirror_mode": {
    "name": "ipython",
    "version": 3
   },
   "file_extension": ".py",
   "mimetype": "text/x-python",
   "name": "python",
   "nbconvert_exporter": "python",
   "pygments_lexer": "ipython3",
   "version": "3.8.2"
  }
 },
 "nbformat": 4,
 "nbformat_minor": 4
}
